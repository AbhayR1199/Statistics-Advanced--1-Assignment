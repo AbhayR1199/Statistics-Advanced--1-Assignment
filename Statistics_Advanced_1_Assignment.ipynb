{
  "nbformat": 4,
  "nbformat_minor": 0,
  "metadata": {
    "colab": {
      "provenance": []
    },
    "kernelspec": {
      "name": "python3",
      "display_name": "Python 3"
    },
    "language_info": {
      "name": "python"
    }
  },
  "cells": [
    {
      "cell_type": "code",
      "execution_count": null,
      "metadata": {
        "id": "v7yF3rI-1SrV"
      },
      "outputs": [],
      "source": [
        "# Statistics Advanced -1 Assignment"
      ]
    },
    {
      "cell_type": "markdown",
      "source": [
        "Question 1: What is a random variable in probability theory?"
      ],
      "metadata": {
        "id": "AnTF4Lpy3fD7"
      }
    },
    {
      "cell_type": "markdown",
      "source": [
        "Answer:\n",
        "A random variable is a numerical quantity whose value depends on the outcome of a random experiment. Formally, it is a function that maps each outcome in a sample space to a real number. Example: when rolling a die, X = the number showing on the top face is a random variable."
      ],
      "metadata": {
        "id": "0Vvxckk13fJH"
      }
    },
    {
      "cell_type": "markdown",
      "source": [
        "Question 2: What are the types of random variables?"
      ],
      "metadata": {
        "id": "r6nTvlvg3fME"
      }
    },
    {
      "cell_type": "markdown",
      "source": [
        "Answer:\n",
        "Two main types:\n",
        "\n",
        "Discrete random variables — take countable values (e.g., number of heads in 10 coin flips).\n",
        "\n",
        "Continuous random variables — take values in continuous ranges (e.g., height, weight, time)."
      ],
      "metadata": {
        "id": "xwCV2Gan3fOx"
      }
    },
    {
      "cell_type": "markdown",
      "source": [
        "Question 3: Explain the difference between discrete and continuous distributions."
      ],
      "metadata": {
        "id": "zKMN9itl3fRz"
      }
    },
    {
      "cell_type": "markdown",
      "source": [
        "Answer:\n",
        "\n",
        "Discrete distributions assign probability mass to individual values (use probability mass function, PMF). Example: Binomial( n, p ). Probabilities for specific outcomes like P(X = k) are nonzero for countable k.\n",
        "\n",
        "Continuous distributions assign probability density across intervals (use probability density function, PDF). Individual points have probability zero; probabilities are computed over intervals, e.g., P(a ≤ X ≤ b) = ∫_a^b f(x) dx. Example: Normal distribution."
      ],
      "metadata": {
        "id": "h2QL5w1F3fUq"
      }
    },
    {
      "cell_type": "markdown",
      "source": [
        "Question 4: What is a binomial distribution, and how is it used in probability?"
      ],
      "metadata": {
        "id": "H2E0kalO3zGI"
      }
    },
    {
      "cell_type": "markdown",
      "source": [
        "Answer:\n",
        "The binomial distribution models the number of successes in\n",
        "𝑛\n",
        "n independent Bernoulli trials (each trial has two outcomes: success with probability\n",
        "𝑝\n",
        "p, or failure with probability\n",
        "1\n",
        "−\n",
        "𝑝\n",
        "1−p). The PMF is\n",
        "𝑃\n",
        "(\n",
        "𝑋\n",
        "=\n",
        "𝑘\n",
        ")\n",
        "=\n",
        "(\n",
        "𝑛\n",
        "𝑘\n",
        ")\n",
        "𝑝\n",
        "𝑘\n",
        "(\n",
        "1\n",
        "−\n",
        "𝑝\n",
        ")\n",
        "𝑛\n",
        "−\n",
        "𝑘\n",
        "P(X=k)=(\n",
        "k\n",
        "n\n",
        "​\n",
        " )p\n",
        "k\n",
        " (1−p)\n",
        "n−k\n",
        "  for\n",
        "𝑘\n",
        "=\n",
        "0\n",
        ",\n",
        "…\n",
        ",\n",
        "𝑛\n",
        "k=0,…,n. Used for problems like “how many defective items in a sample of n” or “how many heads in 20 coin flips.”"
      ],
      "metadata": {
        "id": "MCBVJi1S3zJJ"
      }
    },
    {
      "cell_type": "markdown",
      "source": [
        "Question 5: What is the standard normal distribution, and why is it important?"
      ],
      "metadata": {
        "id": "CgspBUoW3zMh"
      }
    },
    {
      "cell_type": "markdown",
      "source": [
        "Answer:\n",
        "The standard normal distribution is a normal (Gaussian) distribution with mean 0 and standard deviation 1. Denoted\n",
        "𝑍\n",
        "∼\n",
        "𝑁\n",
        "(\n",
        "0\n",
        ",\n",
        "1\n",
        ")\n",
        "Z∼N(0,1). It’s important because any normal distribution\n",
        "𝑁\n",
        "(\n",
        "𝜇\n",
        ",\n",
        "𝜎\n",
        "2\n",
        ")\n",
        "N(μ,σ\n",
        "2\n",
        " ) can be standardized to\n",
        "𝑍\n",
        "Z via\n",
        "𝑍\n",
        "=\n",
        "(\n",
        "𝑋\n",
        "−\n",
        "𝜇\n",
        ")\n",
        "/\n",
        "𝜎\n",
        "Z=(X−μ)/σ, enabling the use of one universal table (or functions) for probabilities and critical values."
      ],
      "metadata": {
        "id": "L2-SN3pZ3zOz"
      }
    },
    {
      "cell_type": "markdown",
      "source": [
        "Question 6: What is the Central Limit Theorem (CLT), and why is it critical in statistics?"
      ],
      "metadata": {
        "id": "7ueJeOhY3zRJ"
      }
    },
    {
      "cell_type": "markdown",
      "source": [
        "Answer:\n",
        "The CLT states that, for a large sample size\n",
        "𝑛\n",
        "n, the sampling distribution of the sample mean\n",
        "𝑋\n",
        "ˉ\n",
        "X\n",
        "ˉ\n",
        "  is approximately normal with mean\n",
        "𝜇\n",
        "μ and variance\n",
        "𝜎\n",
        "2\n",
        "/\n",
        "𝑛\n",
        "σ\n",
        "2\n",
        " /n, regardless of the original distribution of the data (provided variance is finite). Formally:\n",
        "𝑋\n",
        "ˉ\n",
        "−\n",
        "𝜇\n",
        "𝜎\n",
        "/\n",
        "𝑛\n",
        "→\n",
        "𝑑\n",
        "𝑁\n",
        "(\n",
        "0\n",
        ",\n",
        "1\n",
        ")\n",
        "σ/\n",
        "n\n",
        "​\n",
        "\n",
        "X\n",
        "ˉ\n",
        " −μ\n",
        "​\n",
        "  \n",
        "→\n",
        "d\n",
        " N(0,1) as\n",
        "𝑛\n",
        "→\n",
        "∞\n",
        "n→∞. It’s critical because it justifies using normal-based inference (confidence intervals, hypothesis tests) for sample means even when the underlying distribution is not normal, once\n",
        "𝑛\n",
        "n is reasonably large."
      ],
      "metadata": {
        "id": "bmQiAcPx4IsU"
      }
    },
    {
      "cell_type": "markdown",
      "source": [
        "Question 7: What is the significance of confidence intervals in statistical analysis?"
      ],
      "metadata": {
        "id": "bAqmWRi54Iuu"
      }
    },
    {
      "cell_type": "markdown",
      "source": [
        "Answer:\n",
        "A confidence interval gives a range of plausible values for an unknown population parameter (e.g., the mean) constructed from sample data. A 95% confidence interval means that if we repeated the sampling procedure many times and constructed intervals the same way, about 95% of those intervals would contain the true parameter. They quantify uncertainty around estimates."
      ],
      "metadata": {
        "id": "oRT7ZA6U4IxW"
      }
    },
    {
      "cell_type": "markdown",
      "source": [
        "Question 8: What is the concept of expected value in a probability distribution?"
      ],
      "metadata": {
        "id": "Nv4M_z2l4Iz2"
      }
    },
    {
      "cell_type": "markdown",
      "source": [
        "Answer:\n",
        "The expected value (or mean) of a random variable is the long-run average value it takes under repeated sampling. For discrete X:\n",
        "𝐸\n",
        "[\n",
        "𝑋\n",
        "]\n",
        "=\n",
        "∑\n",
        "𝑥\n",
        "𝑥\n",
        "\n",
        "𝑃\n",
        "(\n",
        "𝑋\n",
        "=\n",
        "𝑥\n",
        ")\n",
        "E[X]=∑\n",
        "x\n",
        "​\n",
        " xP(X=x). For continuous X:\n",
        "𝐸\n",
        "[\n",
        "𝑋\n",
        "]\n",
        "=\n",
        "∫\n",
        "−\n",
        "∞\n",
        "∞\n",
        "𝑥\n",
        "𝑓\n",
        "(\n",
        "𝑥\n",
        ")\n",
        "\n",
        "𝑑\n",
        "𝑥\n",
        "E[X]=∫\n",
        "−∞\n",
        "∞\n",
        "​\n",
        " xf(x)dx. It summarizes the central location of the distribution."
      ],
      "metadata": {
        "id": "0Qmp2o5o4I2e"
      }
    },
    {
      "cell_type": "markdown",
      "source": [
        "Question 9: Write a Python program to generate 1000 random numbers from a normal\n",
        "distribution with mean = 50 and standard deviation = 5. Compute its mean and standard\n",
        "deviation using NumPy, and draw a histogram to visualize the distribution.\n",
        "(Include your Python code and output in the code box below.)"
      ],
      "metadata": {
        "id": "4xwqx8iz4I45"
      }
    },
    {
      "cell_type": "markdown",
      "source": [
        "Answer: (code was run; see output and histogram below)\n",
        "\n",
        "The code I ran generated 1000 samples from\n",
        "𝑁\n",
        "(\n",
        "50\n",
        ",\n",
        "5\n",
        ")\n",
        "N(50,5)\n"
      ],
      "metadata": {
        "id": "8c8axf-K4I7Y"
      }
    },
    {
      "cell_type": "code",
      "source": [
        "import numpy as np\n",
        "import matplotlib.pyplot as plt\n",
        "\n",
        "# Set random seed for reproducibility\n",
        "np.random.seed(0)\n",
        "\n",
        "# Generate 1000 random numbers from a normal distribution (mean=50, std=5)\n",
        "data = np.random.normal(loc=50, scale=5, size=1000)\n",
        "\n",
        "# Compute mean and standard deviation\n",
        "mean_value = np.mean(data)\n",
        "std_value = np.std(data, ddof=1)  # sample standard deviation\n",
        "\n",
        "# Print results\n",
        "print(f\"Sample Mean: {mean_value:.4f}\")\n",
        "print(f\"Sample Standard Deviation: {std_value:.4f}\")\n",
        "\n",
        "# Plot histogram\n",
        "plt.hist(data, bins=30, edgecolor='black')\n",
        "plt.title(\"Histogram of 1000 Samples from N(50, 5)\")\n",
        "plt.xlabel(\"Value\")\n",
        "plt.ylabel(\"Frequency\")\n",
        "plt.show()\n"
      ],
      "metadata": {
        "colab": {
          "base_uri": "https://localhost:8080/",
          "height": 507
        },
        "id": "4rZLTnuF5BVD",
        "outputId": "24628b2d-e915-427b-ec91-bac70406f098"
      },
      "execution_count": 1,
      "outputs": [
        {
          "output_type": "stream",
          "name": "stdout",
          "text": [
            "Sample Mean: 49.7737\n",
            "Sample Standard Deviation: 4.9376\n"
          ]
        },
        {
          "output_type": "display_data",
          "data": {
            "text/plain": [
              "<Figure size 640x480 with 1 Axes>"
            ],
            "image/png": "[encoded data removed]"
          },
          "metadata": {}
        }
      ]
    },
    {
      "cell_type": "markdown",
      "source": [
        "Question 10: You are working as a data analyst for a retail company. The company has\n",
        "collected daily sales data for 2 years and wants you to identify the overall sales trend.\n",
        "daily_sales = [220, 245, 210, 265, 230, 250, 260, 275, 240, 255,\n",
        "235, 260, 245, 250, 225, 270, 265, 255, 250, 260]\n",
        "● Explain how you would apply the Central Limit Theorem to estimate the average sales\n",
        "with a 95% confidence interval.\n",
        "● Write the Python code to compute the mean sales and its confidence interval.\n",
        "(Include your Python code and output in the code box below.)"
      ],
      "metadata": {
        "id": "sUJJkrsX4zR3"
      }
    },
    {
      "cell_type": "markdown",
      "source": [
        "Answer:\n",
        "The Central Limit Theorem (CLT) tells us that for a reasonably large sample size, the distribution of the sample mean will be approximately normal with:\n",
        "\n",
        "𝜇\n",
        "𝑋\n",
        "ˉ\n",
        "=\n",
        "𝜇\n",
        ",\n",
        "𝜎\n",
        "𝑋\n",
        "ˉ\n",
        "=\n",
        "𝜎\n",
        "𝑛\n",
        "μ\n",
        "X\n",
        "ˉ\n",
        "\n",
        "​\n",
        " =μ,σ\n",
        "X\n",
        "ˉ\n",
        "\n",
        "​\n",
        " =\n",
        "n\n",
        "​\n",
        "\n",
        "σ\n",
        "​\n",
        "\n",
        "Even though our data has\n",
        "𝑛\n",
        "=\n",
        "20\n",
        "n=20 (not very large), we can still apply CLT principles, but we should use the t-distribution for a more accurate confidence interval because the population standard deviation is unknown and\n",
        "𝑛\n",
        "<\n",
        "30\n",
        "n<30.\n",
        "\n",
        "The 95% confidence interval (CI) formula using the t-distribution is:\n",
        "\n",
        "𝑋\n",
        "ˉ\n",
        "±\n",
        "𝑡\n",
        "0.975\n",
        ",\n",
        "\n",
        "𝑑\n",
        "𝑓\n",
        "×\n",
        "𝑠\n",
        "𝑛\n",
        "X\n",
        "ˉ\n",
        " ±t\n",
        "0.975,df\n",
        "​\n",
        " ×\n",
        "n\n",
        "​\n",
        "\n",
        "s\n",
        "​\n",
        "\n",
        "Where:\n",
        "\n",
        "𝑋\n",
        "ˉ\n",
        "X\n",
        "ˉ\n",
        "  = sample mean\n",
        "\n",
        "𝑠\n",
        "s = sample standard deviation\n",
        "\n",
        "𝑛\n",
        "n = sample size\n",
        "\n",
        "𝑡\n",
        "0.975\n",
        ",\n",
        "\n",
        "𝑑\n",
        "𝑓\n",
        "t\n",
        "0.975,df\n",
        "​\n",
        "  = t-critical value at 95% confidence with\n",
        "𝑑\n",
        "𝑓\n",
        "=\n",
        "𝑛\n",
        "−\n",
        "1\n",
        "df=n−1"
      ],
      "metadata": {
        "id": "kN8rdVDw4z2T"
      }
    },
    {
      "cell_type": "code",
      "source": [
        "import numpy as np\n",
        "import math\n",
        "from scipy import stats\n",
        "\n",
        "# Given daily sales data\n",
        "daily_sales = [220, 245, 210, 265, 230, 250, 260, 275, 240, 255,\n",
        "               235, 260, 245, 250, 225, 270, 265, 255, 250, 260]\n",
        "\n",
        "# Convert to NumPy array\n",
        "data = np.array(daily_sales)\n",
        "\n",
        "# Calculate statistics\n",
        "n = len(data)\n",
        "mean_sales = np.mean(data)\n",
        "std_sales = np.std(data, ddof=1)  # sample std deviation\n",
        "se = std_sales / math.sqrt(n)\n",
        "\n",
        "# t-critical value for 95% CI, df = n-1\n",
        "t_crit = stats.t.ppf(0.975, df=n-1)\n",
        "\n",
        "# Confidence interval\n",
        "ci_lower = mean_sales - t_crit * se\n",
        "ci_upper = mean_sales + t_crit * se\n",
        "\n",
        "# Output\n",
        "print(f\"Sample Mean: {mean_sales:.4f}\")\n",
        "print(f\"Sample Std Dev: {std_sales:.4f}\")\n",
        "print(f\"Standard Error: {se:.4f}\")\n",
        "print(f\"95% Confidence Interval: ({ci_lower:.4f}, {ci_upper:.4f})\")\n"
      ],
      "metadata": {
        "colab": {
          "base_uri": "https://localhost:8080/"
        },
        "id": "IDejkwmT6Yyu",
        "outputId": "889320d3-8215-4eaf-b318-0f3812188622"
      },
      "execution_count": 3,
      "outputs": [
        {
          "output_type": "stream",
          "name": "stdout",
          "text": [
            "Sample Mean: 248.2500\n",
            "Sample Std Dev: 17.2653\n",
            "Standard Error: 3.8606\n",
            "95% Confidence Interval: (240.1696, 256.3304)\n"
          ]
        }
      ]
    }
  ]
}